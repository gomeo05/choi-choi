XPERIMENT="lego"
GROUP="lego_group"
NAME="lego"
CONFIG=f"/content/neuralangelo/projects/neuralangelo/configs/custom/{EXPERIMENT}.yaml"
GPUS=1
CHECKPOINT_PATH="/content/checkpoint"
!torchrun --nproc_per_node={GPUS} train.py \
    --wandb \
    --wandb_name=neuralangelo \
    --logdir=logs/{GROUP}/{NAME} \
    --config={CONFIG} \
    --show_pbar
https://mint.fun/zora/0xA04BD74a108f49A8F6aEf5D34a2b339A77151934
